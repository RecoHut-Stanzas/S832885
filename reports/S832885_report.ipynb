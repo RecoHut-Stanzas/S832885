{
  "cells": [
    {
      "cell_type": "markdown",
      "source": [
        "# Entire Item Space Exploration with Contextual Bandits"
      ],
      "metadata": {
        "id": "lIYdn1woOS1n"
      }
    },
    {
      "cell_type": "markdown",
      "source": [
        "## Executive summary"
      ],
      "metadata": {
        "id": "lblegUK-e2J9"
      }
    },
    {
      "cell_type": "markdown",
      "source": [
        "| | |\n",
        "| --- | --- |\n",
        "| Problem | Contextual bandit (CB) strive to make a good trade-off between exploration and exploitation so that users' potential interests have chances to expose. However, classical CB can only be applied to a small, sampled item set (usually hundreds), which forces the typical applications in recommender systems limited to candidate post-ranking, homepage top item ranking, ad creative selection, or online model selection (A/B test). |\n",
        "| Solution | Hierarchical CB (HCB) to make classical CB model (such as LinUCB and Thompson Sampling) capable to explore users' interest in the entire item space without limiting it to a small item set. We first construct a hierarchy item tree via a bottom-up clustering algorithm to organize items in a coarse-to-fine manner. Then uses HCB to explore users' interest in the hierarchy tree. HCB takes the exploration problem as a series of decision-making processes, where the goal is to find a path from the root to a leaf node, and the feedback will be back-propagated to all the nodes in the path. For example, in e-commerce scenario, “Apparel > Clothing > Women’s Clothing > Dresses” is a path from general apparel to women’s dresses. Progressive hierarchical CB (pHCB) algorithm is an extension of HCB, which progressively extends visible nodes which reach a confidence level for exploration, to avoid misleading actions on upper-level nodes in the sequential decision-making process. Consequently, the pHCB avoids greedily selecting only one node at each level to improve the HCB. |\n",
        "| Dataset | MIND |\n",
        "| Preprocessing | We use Sentence BERT to train news embeddings from their contents, and adopt a GRU as the user model to fine-tune news embeddings from the sequence of click logs. Tree structure construction - to construct a tree structure with 𝐿 levels, at first, 𝑁 items are clustered into ⁍ different subsets based on the similarity of item embeddings. We treat each subset as a new node on the tree, with an embedding vector being the average of all item embeddings belonging to this node. Afterward, these ⁍ nodes will be further clustered into ⁍ different subsets using K-Means and each subset will be treated as a new node on the tree, forming a parent-children relation. This step will be repeated several times until the depth of the tree structure researches 𝐿. As a result, the constructed tree structure, denoted by H, contains ⁍ nodes at each level, where ⁍ = 1 because only a root node appears at the first level. Intuitively, items within the same node are more similar to each other, thus the clustering results reflect the dependencies among items. In H, only the root node does not have parent node, and leaf nodes have no children nodes. |\n",
        "| Metrics | Cumulative reward. |"
      ],
      "metadata": {
        "id": "B19kJZc4e2Hq"
      }
    },
    {
      "cell_type": "markdown",
      "source": [
        "## Process flow\n",
        "\n",
        "<img src='https://github.com/RecoHut-Stanzas/S832885/raw/main/images/P422159_process_flow.svg'>"
      ],
      "metadata": {
        "id": "b3lyGYW9e62t"
      }
    },
    {
      "cell_type": "markdown",
      "source": [
        "## Theory"
      ],
      "metadata": {
        "id": "9B_MsvtTe60U"
      }
    },
    {
      "cell_type": "markdown",
      "source": [
        "HCB flow             |  HCB algorithm\n",
        ":-------------------------:|:-------------------------:\n",
        "![](https://github.com/RecoHut-Stanzas/S832885/raw/main/images/hcb_flow.png)  |  ![](https://github.com/RecoHut-Stanzas/S832885/raw/main/images/hcb_algo.png)"
      ],
      "metadata": {
        "id": "79UstHhBjgYN"
      }
    },
    {
      "cell_type": "markdown",
      "source": [
        "In the HCB illustration, The policy selects a path {A,C,I,P} from root to a certain leaf node."
      ],
      "metadata": {
        "id": "MYz3Ydybldgl"
      }
    },
    {
      "cell_type": "markdown",
      "source": [
        "pHCB flow             |  pHCB algorithm\n",
        ":-------------------------:|:-------------------------:\n",
        "![](https://github.com/RecoHut-Stanzas/S832885/raw/main/images/phcb_flow.png)  |  ![](https://github.com/RecoHut-Stanzas/S832885/raw/main/images/phcb_algo.png)"
      ],
      "metadata": {
        "id": "MpVldn7dlMSE"
      }
    },
    {
      "cell_type": "markdown",
      "source": [
        "In pHCB illustration, at round $𝑇_𝑎$, the receptive field consists of nodes B, C and D; After several trials, at round $𝑇_𝑏$, node C meets the conditions of expansion, so the receptive field changes to nodes B, D, G, H and I."
      ],
      "metadata": {
        "id": "xSSdDxhZlmaK"
      }
    },
    {
      "cell_type": "markdown",
      "source": [
        "## References\n",
        "\n",
        "1. [https://github.com/RecoHut-Stanzas/S832885](https://github.com/RecoHut-Stanzas/S832885)\n",
        "2. [https://arxiv.org/pdf/2110.09905v1.pdf](https://arxiv.org/pdf/2110.09905v1.pdf)\n",
        "3. [https://github.com/yusonghust/HCB-pHCB](https://github.com/yusonghust/HCB-pHCB)"
      ],
      "metadata": {
        "id": "QeLKEM6cxYBz"
      }
    }
  ],
  "metadata": {
    "colab": {
      "name": "scratchpad",
      "provenance": []
    },
    "kernelspec": {
      "display_name": "Python 3",
      "name": "python3"
    }
  },
  "nbformat": 4,
  "nbformat_minor": 0
}